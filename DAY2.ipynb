{
 "cells": [
  {
   "cell_type": "code",
   "execution_count": 1,
   "metadata": {},
   "outputs": [
    {
     "name": "stdout",
     "output_type": "stream",
     "text": [
      "hello\n"
     ]
    }
   ],
   "source": [
    "print(\"hello\")"
   ]
  },
  {
   "cell_type": "code",
   "execution_count": 2,
   "metadata": {},
   "outputs": [
    {
     "name": "stdout",
     "output_type": "stream",
     "text": [
      "hello\n"
     ]
    }
   ],
   "source": [
    "print(\"hello\") "
   ]
  },
  {
   "cell_type": "code",
   "execution_count": 4,
   "metadata": {},
   "outputs": [
    {
     "name": "stdout",
     "output_type": "stream",
     "text": [
      "[-56, -85, 13, 20, 30, 40, 50, 12, 45, 6, 89]\n"
     ]
    }
   ],
   "source": [
    "a=[-56,-85,13,20,30,40,50]\n",
    "# a.append([12,45,6,89])\n",
    "# a=a[::-1]\n",
    "\n",
    "# a.extend([12,45,6,89])\n",
    "# a.sort()\n",
    "# a.reverse()\n",
    "# print(len(a))\n",
    "# print(sum(a))\n",
    "# print(min(a))\n",
    "# print(max(a))\n",
    "# a.clear()\n",
    "\n",
    "a.append(12)\n",
    "a.append(45)\n",
    "a.append(6)\n",
    "a.append(89)\n",
    "\n",
    "print(a)"
   ]
  },
  {
   "cell_type": "code",
   "execution_count": 13,
   "metadata": {},
   "outputs": [
    {
     "name": "stdout",
     "output_type": "stream",
     "text": [
      "7\n",
      "12\n",
      "-85\n",
      "50\n",
      "[]\n"
     ]
    }
   ],
   "source": [
    "a=[-56,-85,13,20,30,40,50]\n",
    "# a.extend([12,45,6,89])\n",
    "# a.sort()\n",
    "# a.reverse()\n",
    "print(len(a))\n",
    "print(sum(a))\n",
    "print(min(a))\n",
    "print(max(a))\n",
    "a.clear()\n",
    "print(a)"
   ]
  },
  {
   "cell_type": "code",
   "execution_count": 16,
   "metadata": {},
   "outputs": [
    {
     "name": "stdout",
     "output_type": "stream",
     "text": [
      "[10, 20, 30, [40, 50], 60, 70]\n"
     ]
    }
   ],
   "source": [
    "a = [10, 20, 30]\n",
    "# Append the list [40, 50] to 'a'\n",
    "# Extend 'a' with [60, 70]\n",
    "a.append([40,50])\n",
    "a.extend([60,70])\n",
    "print(a)"
   ]
  },
  {
   "cell_type": "code",
   "execution_count": 17,
   "metadata": {},
   "outputs": [
    {
     "name": "stdout",
     "output_type": "stream",
     "text": [
      "[5, 4, 3, 2, 1]\n"
     ]
    }
   ],
   "source": [
    "a = [1, 2, 3, 4, 5]\n",
    "# Reverse the list using slicing\n",
    "a.reverse()\n",
    "print(a)"
   ]
  },
  {
   "cell_type": "code",
   "execution_count": 18,
   "metadata": {},
   "outputs": [
    {
     "name": "stdout",
     "output_type": "stream",
     "text": [
      "[-1, 3, 5, 8, 10]\n"
     ]
    }
   ],
   "source": [
    "a = [10, 5, 8, -1, 3]\n",
    "# Sort the list in ascending order\n",
    "a.sort()\n",
    "print(a)"
   ]
  },
  {
   "cell_type": "code",
   "execution_count": 19,
   "metadata": {},
   "outputs": [
    {
     "name": "stdout",
     "output_type": "stream",
     "text": [
      "5\n",
      "55\n",
      "-10\n"
     ]
    }
   ],
   "source": [
    "a = [15, 25, -10, 40, 55]\n",
    "# Find the length, sum, min, and max of the list\n",
    "print(len(a))\n",
    "print(max(a))\n",
    "print(min(a))\n"
   ]
  },
  {
   "cell_type": "code",
   "execution_count": 20,
   "metadata": {},
   "outputs": [
    {
     "name": "stdout",
     "output_type": "stream",
     "text": [
      "[]\n"
     ]
    }
   ],
   "source": [
    "a = [100, 200, 300]\n",
    "# Clear all elements from the list\n",
    "a.clear()\n",
    "print(a)"
   ]
  },
  {
   "cell_type": "code",
   "execution_count": 36,
   "metadata": {},
   "outputs": [
    {
     "name": "stdout",
     "output_type": "stream",
     "text": [
      "second last element 20\n",
      "last element 25\n"
     ]
    }
   ],
   "source": [
    "a = [5, 10, 15, 20, 25]\n",
    "# Access the last and second-last element using negative indexing\n",
    "b=a[3]\n",
    "c=a[4]\n",
    "print(f\"second last element {b}\")\n",
    "print(f\"last element {c}\")"
   ]
  },
  {
   "cell_type": "code",
   "execution_count": 40,
   "metadata": {},
   "outputs": [
    {
     "name": "stdout",
     "output_type": "stream",
     "text": [
      "[4, 6, 8, 10]\n"
     ]
    }
   ],
   "source": [
    "a = [2, 4, 6, 8, 10, 12]\n",
    "# Slice the list to get elements from index 1 to 4\n",
    "a=a[1:5]\n",
    "print(a)"
   ]
  },
  {
   "cell_type": "code",
   "execution_count": 47,
   "metadata": {},
   "outputs": [
    {
     "name": "stdout",
     "output_type": "stream",
     "text": [
      "[1, 2, 3, 4, 5]\n"
     ]
    }
   ],
   "source": [
    "a = [1, 2, 3, 1, 2, 4, 5]\n",
    "# Remove duplicates from the list\n",
    "b=[]\n",
    "for i in a:\n",
    "    if i not in b:\n",
    "        b.append(i)\n",
    "print(b)\n",
    "        "
   ]
  },
  {
   "cell_type": "code",
   "execution_count": 49,
   "metadata": {},
   "outputs": [
    {
     "name": "stdout",
     "output_type": "stream",
     "text": [
      "yes\n"
     ]
    }
   ],
   "source": [
    "a = [12, 34, 56, 78, 90]\n",
    "# Check if 56 exists in the list\n",
    "for i in a:\n",
    "    if i==56:\n",
    "        print(\"yes\") \n",
    "    \n",
    "    "
   ]
  },
  {
   "cell_type": "code",
   "execution_count": 57,
   "metadata": {},
   "outputs": [
    {
     "name": "stdout",
     "output_type": "stream",
     "text": [
      "4\n",
      "8\n",
      "12\n",
      "16\n"
     ]
    }
   ],
   "source": [
    "a = [2, 4, 6, 8]\n",
    "# Multiply every element in the list by 2\n",
    "for i in a:\n",
    "        print(i*2)"
   ]
  },
  {
   "cell_type": "code",
   "execution_count": null,
   "metadata": {},
   "outputs": [],
   "source": []
  }
 ],
 "metadata": {
  "kernelspec": {
   "display_name": "Python 3",
   "language": "python",
   "name": "python3"
  },
  "language_info": {
   "codemirror_mode": {
    "name": "ipython",
    "version": 3
   },
   "file_extension": ".py",
   "mimetype": "text/x-python",
   "name": "python",
   "nbconvert_exporter": "python",
   "pygments_lexer": "ipython3",
   "version": "3.12.6"
  }
 },
 "nbformat": 4,
 "nbformat_minor": 2
}
