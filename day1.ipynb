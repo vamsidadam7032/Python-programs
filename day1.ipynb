{
 "cells": [
  {
   "cell_type": "code",
   "execution_count": 4,
   "metadata": {},
   "outputs": [
    {
     "name": "stdout",
     "output_type": "stream",
     "text": [
      "apple\n",
      "banana\n",
      "grape\n"
     ]
    }
   ],
   "source": [
    "fruits = ['apple', 'banana', 'cherry', 'date', 'fig', 'grape']\n",
    "\n",
    "# Task:\n",
    "# 1. Print the first element.\n",
    "# 2. Print the third element.\n",
    "# 3. Print the last element.\n",
    "print(fruits[0])\n",
    "print(fruits[1])\n",
    "print(fruits[-1])"
   ]
  },
  {
   "cell_type": "code",
   "execution_count": 8,
   "metadata": {},
   "outputs": [
    {
     "name": "stdout",
     "output_type": "stream",
     "text": [
      "[10, 20, 30]\n",
      "[10, 20]\n",
      "[90, 80, 70, 60, 50, 40, 30, 20, 10]\n"
     ]
    }
   ],
   "source": [
    "numbers = [10, 20, 30, 40, 50, 60, 70, 80, 90]\n",
    "\n",
    "# Task:\n",
    "# 1. Slice the list to get the first three elements.\n",
    "# 2. Slice the list to exclude the first two elements.\n",
    "# 3. Print the list in reverse order using slicing.\n",
    "print(numbers[0:3])\n",
    "print(numbers[0:2])\n",
    "print(numbers[::-1])"
   ]
  },
  {
   "cell_type": "code",
   "execution_count": 21,
   "metadata": {},
   "outputs": [
    {
     "name": "stdout",
     "output_type": "stream",
     "text": [
      "['Monday', 'Tuesday', 'Funday', 'wednesday', 'Friday', 'Saturplay']\n",
      "['Monday', 'Tuesday', 'Funday', 'wednesday', 'Friday', 'sunday']\n"
     ]
    }
   ],
   "source": [
    "days = ['Monday', 'Tuesday', 'Funday', 'Thursday', 'Friday', 'Saturplay']\n",
    "\n",
    "# Task:\n",
    "# 1. Change the third day to 'Wednesday'.\n",
    "# 2. Change the last day to 'Sunday'.\n",
    "days[3]='wednesday'\n",
    "print(days)\n",
    "days[5]='sunday'\n",
    "print(days)"
   ]
  },
  {
   "cell_type": "code",
   "execution_count": 22,
   "metadata": {},
   "outputs": [
    {
     "name": "stdout",
     "output_type": "stream",
     "text": [
      "6\n"
     ]
    }
   ],
   "source": [
    "cities = ['New York', 'London', 'Paris', 'Tokyo', 'Berlin', 'Sydney']\n",
    "\n",
    "# Task:\n",
    "# Use the appropriate function to find and print the length of the list.\n",
    "print(len(cities))"
   ]
  },
  {
   "cell_type": "code",
   "execution_count": 25,
   "metadata": {},
   "outputs": [
    {
     "name": "stdout",
     "output_type": "stream",
     "text": [
      "[4, 5, 6]\n"
     ]
    }
   ],
   "source": [
    "numbers = [1, 2, 3, 4, 5, 6, 7]\n",
    "\n",
    "# Task:\n",
    "# Use slicing to extract the middle three elements (4, 5, 6) and print them.\n",
    "print(numbers[3:6])"
   ]
  },
  {
   "cell_type": "code",
   "execution_count": 26,
   "metadata": {},
   "outputs": [
    {
     "name": "stdout",
     "output_type": "stream",
     "text": [
      "['red', 'purple', 'brown', 'black', 'pink', 'orange']\n"
     ]
    }
   ],
   "source": [
    "colors = ['red', 'green', 'blue', 'yellow', 'pink', 'orange']\n",
    "\n",
    "# Task:\n",
    "# Replace the elements from index 1 to 3 with ['purple', 'brown', 'black'].\n",
    "colors[1]='purple'\n",
    "colors[2]='brown'\n",
    "colors[3]='black'\n",
    "print(colors)"
   ]
  }
 ],
 "metadata": {
  "kernelspec": {
   "display_name": "base",
   "language": "python",
   "name": "python3"
  },
  "language_info": {
   "codemirror_mode": {
    "name": "ipython",
    "version": 3
   },
   "file_extension": ".py",
   "mimetype": "text/x-python",
   "name": "python",
   "nbconvert_exporter": "python",
   "pygments_lexer": "ipython3",
   "version": "3.12.4"
  }
 },
 "nbformat": 4,
 "nbformat_minor": 2
}
