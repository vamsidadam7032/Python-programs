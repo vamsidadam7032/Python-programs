{
 "cells": [
  {
   "cell_type": "code",
   "execution_count": 5,
   "metadata": {},
   "outputs": [
    {
     "name": "stdout",
     "output_type": "stream",
     "text": [
      "['kadapa', 'kurnool', 'bangalore', 'chitoor', 'delhi']\n"
     ]
    }
   ],
   "source": [
    "city=[\"kadapa\",\"kurnool\",\"chitoor\"]\n",
    "city.extend([\"delhi\",\"gujarath\",\"hyderabad\"])\n",
    "city.insert(2,\"bangalore\")\n",
    "city.pop()\n",
    "city.pop()\n",
    "print(city)"
   ]
  },
  {
   "cell_type": "code",
   "execution_count": 56,
   "metadata": {},
   "outputs": [
    {
     "name": "stdout",
     "output_type": "stream",
     "text": [
      "889\n"
     ]
    }
   ],
   "source": [
    "n=int(input(\"enter a number\"))\n",
    "arr=int(input(\"enter a number\"))\n",
    "divible_sum=0\n",
    "non_div=0\n",
    "for i in range(arr):\n",
    "    if i%n==0:\n",
    "        divible_sum=divible_sum+i\n",
    "    else:\n",
    "        non_div=non_div+i\n",
    "\n",
    "print(non_div-divible_sum)\n"
   ]
  },
  {
   "cell_type": "code",
   "execution_count": 18,
   "metadata": {},
   "outputs": [
    {
     "name": "stdout",
     "output_type": "stream",
     "text": [
      "2\n",
      "4\n",
      "6\n",
      "8\n",
      "10\n",
      "12\n",
      "14\n",
      "16\n",
      "18\n",
      "20\n",
      "22\n",
      "24\n",
      "26\n",
      "28\n"
     ]
    }
   ],
   "source": [
    "for i in range(1,30):\n",
    " if(i%2)==0:\n",
    "    print(i)"
   ]
  },
  {
   "cell_type": "code",
   "execution_count": 62,
   "metadata": {},
   "outputs": [
    {
     "name": "stdout",
     "output_type": "stream",
     "text": [
      "75\n"
     ]
    }
   ],
   "source": [
    "a=[13.56,8,9,75,23]\n",
    "largest=a[0]\n",
    "for i in a:\n",
    "    if i>largest:\n",
    "       print(i)\n",
    "       break\n"
   ]
  }
 ],
 "metadata": {
  "kernelspec": {
   "display_name": "Python 3",
   "language": "python",
   "name": "python3"
  },
  "language_info": {
   "codemirror_mode": {
    "name": "ipython",
    "version": 3
   },
   "file_extension": ".py",
   "mimetype": "text/x-python",
   "name": "python",
   "nbconvert_exporter": "python",
   "pygments_lexer": "ipython3",
   "version": "3.12.6"
  }
 },
 "nbformat": 4,
 "nbformat_minor": 2
}
