{
 "cells": [
  {
   "cell_type": "code",
   "execution_count": 3,
   "id": "11fedbfe-af01-4d9a-8205-3cc267503bbf",
   "metadata": {},
   "outputs": [],
   "source": [
    "import random\n",
    "import string\n",
    "\n",
    "# Predefined lists of adjectives and nouns\n",
    "adjectives = ['Cool', 'Happy', 'Mighty', 'Swift', 'Creative', 'Bright']\n",
    "nouns = ['Tiger', 'Dragon', 'Shark', 'Phoenix', 'Lion', 'Eagle']\n"
   ]
  },
  {
   "cell_type": "code",
   "execution_count": 5,
   "id": "5da97d36-02be-46dd-b34b-7659440e61f4",
   "metadata": {},
   "outputs": [],
   "source": [
    "def generate_username(include_numbers=False, include_special=False, username_length=None):\n",
    "    # Randomly select an adjective and a noun\n",
    "    adjective = random.choice(adjectives)\n",
    "    noun = random.choice(nouns)\n",
    "\n",
    "    # Base username is a combination of adjective and noun\n",
    "    username = f\"{adjective}{noun}\"\n",
    "\n",
    "    # Add numbers to the username if required\n",
    "    if include_numbers:\n",
    "        number = str(random.randint(1, 999))  # Random number between 1 and 999\n",
    "        username = f\"{username}{number}\"\n",
    "\n",
    "    # Add special characters to the username if required\n",
    "    if include_special:\n",
    "        special_char = random.choice(string.punctuation)\n",
    "        username = f\"{username}{special_char}\"\n",
    "\n",
    "    # If the username length is specified, truncate it if necessary\n",
    "    if username_length and len(username) > username_length:\n",
    "        username = username[:username_length]\n",
    "\n",
    "    return username\n"
   ]
  },
  {
   "cell_type": "code",
   "execution_count": 7,
   "id": "f61c46dd-6cd8-4bb3-8322-d261ce60db43",
   "metadata": {},
   "outputs": [],
   "source": [
    "def save_usernames_to_file(usernames, filename=\"usernames.txt\"):\n",
    "    with open(filename, 'w') as file:\n",
    "        for username in usernames:\n",
    "            file.write(username + '\\n')\n",
    "    print(f\"Usernames saved to {filename}\")\n"
   ]
  },
  {
   "cell_type": "code",
   "execution_count": null,
   "id": "771c2428-0cec-477a-8bb4-cba1e3fdee4d",
   "metadata": {},
   "outputs": [
    {
     "name": "stdout",
     "output_type": "stream",
     "text": [
      "Welcome to the Random Username Generator!\n"
     ]
    },
    {
     "name": "stdin",
     "output_type": "stream",
     "text": [
      "How many usernames would you like to generate?  1\n",
      "Include numbers in the usernames? (yes/no):  yes\n",
      "Include special characters in the usernames? (yes/no):  yes\n"
     ]
    }
   ],
   "source": [
    "def main():\n",
    "    print(\"Welcome to the Random Username Generator!\")\n",
    "\n",
    "    # Get user preferences\n",
    "    try:\n",
    "        num_usernames = int(input(\"How many usernames would you like to generate? \"))\n",
    "    except ValueError:\n",
    "        print(\"Invalid input. Please enter a number.\")\n",
    "        return\n",
    "\n",
    "    include_numbers = input(\"Include numbers in the usernames? (yes/no): \").strip().lower() == 'yes'\n",
    "    include_special = input(\"Include special characters in the usernames? (yes/no): \").strip().lower() == 'yes'\n",
    "    \n",
    "    username_length_input = input(\"Specify a maximum length for the username (leave empty for no limit): \").strip()\n",
    "    if username_length_input:\n",
    "        try:\n",
    "            username_length = int(username_length_input)\n",
    "        except ValueError:\n",
    "            print(\"Invalid input. Length should be a number.\")\n",
    "            return\n",
    "    else:\n",
    "        username_length = None\n",
    "\n",
    "    # Generate usernames based on user input\n",
    "    generated_usernames = []\n",
    "    for _ in range(num_usernames):\n",
    "        username = generate_username(include_numbers, include_special, username_length)\n",
    "        generated_usernames.append(username)\n",
    "\n",
    "    # Display generated usernames\n",
    "    print(\"\\nGenerated Usernames:\")\n",
    "    for username in generated_usernames:\n",
    "        print(username)\n",
    "\n",
    "    # Ask user if they want to save the usernames to a file\n",
    "    save_choice = input(\"Would you like to save the usernames to a file? (yes/no): \").strip().lower()\n",
    "    if save_choice == 'yes':\n",
    "        save_usernames_to_file(generated_usernames)\n",
    "\n",
    "if __name__ == \"__main__\":\n",
    "    main()\n"
   ]
  },
  {
   "cell_type": "code",
   "execution_count": null,
   "id": "e9369c3b-8f68-419d-a7a5-8e9869233557",
   "metadata": {},
   "outputs": [],
   "source": []
  }
 ],
 "metadata": {
  "kernelspec": {
   "display_name": "Python 3 (ipykernel)",
   "language": "python",
   "name": "python3"
  },
  "language_info": {
   "codemirror_mode": {
    "name": "ipython",
    "version": 3
   },
   "file_extension": ".py",
   "mimetype": "text/x-python",
   "name": "python",
   "nbconvert_exporter": "python",
   "pygments_lexer": "ipython3",
   "version": "3.12.7"
  }
 },
 "nbformat": 4,
 "nbformat_minor": 5
}
